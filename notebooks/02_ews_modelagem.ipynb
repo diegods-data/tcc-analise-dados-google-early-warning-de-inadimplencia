{
  "cells": [
    {
      "cell_type": "markdown",
      "metadata": {},
      "source": [
        "# Notebook Skeleton\n",
        "\n",
        "Este notebook serve como ponto de partida. Adicione aqui seu c\u00f3digo Python para explorar os dados, visualizar s\u00e9ries de inadimpl\u00eancia e construir o \u00edndice de risco ou modelo de alerta.\n"
      ]
    }
  ],
  "metadata": {
    "kernelspec": {
      "display_name": "Python 3",
      "language": "python",
      "name": "python3"
    },
    "language_info": {
      "name": "python",
      "version": "3.10"
    }
  },
  "nbformat": 4,
  "nbformat_minor": 5
}
